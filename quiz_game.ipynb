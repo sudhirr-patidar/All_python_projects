{
  "cells": [
    {
      "cell_type": "markdown",
      "source": [
        "#**QUIZ GAME**"
      ],
      "metadata": {
        "id": "WixikPX_eIo1"
      }
    },
    {
      "cell_type": "code",
      "execution_count": 2,
      "metadata": {
        "id": "t2ipWNEW8r_w",
        "colab": {
          "base_uri": "https://localhost:8080/"
        },
        "outputId": "1b43f4ba-b9b6-4be3-d492-b60316a8ba1a"
      },
      "outputs": [
        {
          "output_type": "stream",
          "name": "stdout",
          "text": [
            "Welcome to my computer quiz!\n",
            "Do you want to play? yes\n",
            "Okay! Let's play:)\n",
            "Which Python keyword is used to define a block of code that should be executed repeatedly? while \n",
            "Sorry, that's not correct. The answer is While.\n",
            "What is the term for a named, ordered, and mutable collection of items in Python? list\n",
            "That's correct!\n",
            "Which Indian city is known as the \"Silicon Valley of India\" due to its IT industry? delhi\n",
            "Sorry, that's not correct. The answer is Bengaluru.\n",
            "What is the fundamental SI unit of length? meter\n",
            "That's correct!\n",
            "What does CPU stand for? idk\n",
            "Sorry, that's not correct. The answer is Central Processing Unit.\n",
            "You got 2 questions correct.\n",
            "So, you got 40.0%.\n"
          ]
        }
      ],
      "source": [
        "# Welcome message\n",
        "print(\"Welcome to my computer quiz!\")\n",
        "\n",
        "# Ask the user if they want to play\n",
        "playing = input(\"Do you want to play? \")\n",
        "\n",
        "# Check if the user's response is not \"yes\"\n",
        "if playing.lower() != \"yes\":\n",
        "    print(\"Okay, maybe another time.\")\n",
        "    quit()  # Exit the program if the user doesn't want to play\n",
        "else:\n",
        "    print(\"Okay! Let's play:)\")\n",
        "\n",
        "# Initialize the score to 0\n",
        "score = 0\n",
        "\n",
        "# Ask the first question\n",
        "answer = input(\"Which Python keyword is used to define a block of code that should be executed repeatedly? \")\n",
        "\n",
        "# Check if the answer is correct and provide feedback\n",
        "if answer.lower() == \"while\":\n",
        "    print(\"That's correct!\")\n",
        "    score += 1\n",
        "else:\n",
        "    print(\"Sorry, that's not correct. The answer is While.\")\n",
        "\n",
        "# Ask the second question\n",
        "answer = input(\"What is the term for a named, ordered, and mutable collection of items in Python? \")\n",
        "\n",
        "# Check if the answer is correct and provide feedback\n",
        "if answer.lower() == \"list\":\n",
        "    print(\"That's correct!\")\n",
        "    score += 1\n",
        "else:\n",
        "    print(\"Sorry, that's not correct. The answer is List.\")\n",
        "\n",
        "# Ask the third question\n",
        "answer = input(\"Which Indian city is known as the \\\"Silicon Valley of India\\\" due to its IT industry? \")\n",
        "\n",
        "# Check if the answer is correct and provide feedback\n",
        "if answer.lower() == \"bangalore\" or answer == \"bengaluru\":\n",
        "    print(\"That's correct!\")\n",
        "    score += 1\n",
        "else:\n",
        "    print(\"Sorry, that's not correct. The answer is Bengaluru.\")\n",
        "\n",
        "# Ask the fourth question\n",
        "answer = input(\"What is the fundamental SI unit of length? \")\n",
        "\n",
        "# Check if the answer is correct and provide feedback\n",
        "if answer.lower() == \"meter\":\n",
        "    print(\"That's correct!\")\n",
        "    score += 1\n",
        "else:\n",
        "    print(\"Sorry, that's not correct. The answer is Meter(m).\")\n",
        "\n",
        "# Ask the fifth question\n",
        "answer = input(\"What does CPU stand for? \")\n",
        "\n",
        "# Check if the answer is correct and provide feedback\n",
        "if answer.lower() == \"central processing unit\":\n",
        "    print(\"That's correct!\")\n",
        "    score += 1\n",
        "else:\n",
        "    print(\"Sorry, that's not correct. The answer is Central Processing Unit.\")\n",
        "\n",
        "# Display the final score and percentage\n",
        "print(\"You got \" + str(score) + \" questions correct.\")\n",
        "print(\"So, you got \" + str((score/5)*100) + \"%.\")\n"
      ]
    },
    {
      "cell_type": "code",
      "source": [],
      "metadata": {
        "id": "wjGJTZnJqJ2M"
      },
      "execution_count": null,
      "outputs": []
    }
  ],
  "metadata": {
    "colab": {
      "provenance": []
    },
    "kernelspec": {
      "display_name": "Python 3",
      "name": "python3"
    },
    "language_info": {
      "name": "python"
    }
  },
  "nbformat": 4,
  "nbformat_minor": 0
}